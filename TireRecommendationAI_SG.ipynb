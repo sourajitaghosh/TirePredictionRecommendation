{
  "nbformat": 4,
  "nbformat_minor": 0,
  "metadata": {
    "colab": {
      "provenance": [],
      "authorship_tag": "ABX9TyP2Yzr8cQOnGOBO3QKL2Pch",
      "include_colab_link": true
    },
    "kernelspec": {
      "name": "python3",
      "display_name": "Python 3"
    },
    "language_info": {
      "name": "python"
    }
  },
  "cells": [
    {
      "cell_type": "markdown",
      "metadata": {
        "id": "view-in-github",
        "colab_type": "text"
      },
      "source": [
        "<a href=\"https://colab.research.google.com/github/sourajitaghosh/TirePredictionRecommendation/blob/main/TireRecommendationAI_SG.ipynb\" target=\"_parent\"><img src=\"https://colab.research.google.com/assets/colab-badge.svg\" alt=\"Open In Colab\"/></a>"
      ]
    },
    {
      "cell_type": "code",
      "execution_count": 1,
      "metadata": {
        "colab": {
          "base_uri": "https://localhost:8080/"
        },
        "id": "hYevw_51EWxN",
        "outputId": "c88f2979-5a69-48fb-f45a-acd72f27aeba"
      },
      "outputs": [
        {
          "output_type": "stream",
          "name": "stdout",
          "text": [
            "CSV file generated successfully!\n"
          ]
        }
      ],
      "source": [
        "import csv\n",
        "import random\n",
        "\n",
        "# Define a list of customer names\n",
        "customer_names = [\"Alice Johnson\", \"Bob Smith\", \"Charlie Brown\", \"Diana Garcia\", \"Edward Miller\", \"Fiona Lee\", \"George Williams\", \"Helen Jones\", \"Irene Lopez\", \"James Brown\"]\n",
        "\n",
        "# Define a list of vehicle types\n",
        "vehicles = [\"Sedan\", \"SUV\", \"Truck\", \"Coupe\", \"Hatchback\", \"Minivan\", \"Motorcycle\"]\n",
        "\n",
        "# Define a list of tire brands\n",
        "tire_brands = [\"Michelin\", \"Bridgestone\", \"Goodyear\", \"Continental\", \"Pirelli\", \"Dunlop\", \"Hankook\"]\n",
        "\n",
        "# Define a list of weather details\n",
        "weather_details = [\"Sunny\", \"Rainy\", \"Snowy\", \"Icy\", \"Cloudy\", \"Foggy\"]\n",
        "\n",
        "# Define a list of additional parameters for tire selection and tread matching\n",
        "additional_parameters = [\n",
        "    \"Mileage rating\",\n",
        "    \"Load capacity\",\n",
        "    \"Speed rating\",\n",
        "    \"Treadwear warranty\",\n",
        "    \"Noise level\",\n",
        "    \"Fuel efficiency\",\n",
        "    \"Comfort\",\n",
        "    \"Handling\",\n",
        "    \"Grip\",\n",
        "    \"Price\",\n",
        "]\n",
        "\n",
        "# Generate 50 rows of data\n",
        "data = []\n",
        "for _ in range(50):\n",
        "    customer_name = random.choice(customer_names)\n",
        "    vehicle = random.choice(vehicles)\n",
        "    tire_brand = random.choice(tire_brands)\n",
        "    weather_detail = random.choice(weather_details)\n",
        "    loyalty_points = random.randint(0, 1000)\n",
        "\n",
        "    # Generate random values for additional parameters\n",
        "    additional_data = [random.randint(1, 10) for _ in range(len(additional_parameters))]\n",
        "\n",
        "    row = [customer_name, vehicle, tire_brand, weather_detail, loyalty_points] + additional_data\n",
        "    data.append(row)\n",
        "\n",
        "# Write the data to a CSV file\n",
        "with open(\"tire_management_data.csv\", \"w\", newline=\"\") as csvfile:\n",
        "    writer = csv.writer(csvfile)\n",
        "    writer.writerow([\"Name of customer\", \"Vehicle\", \"Tire brand\", \"Weather details\", \"Loyalty points\"] + additional_parameters)\n",
        "    writer.writerows(data)\n",
        "\n",
        "print(\"CSV file generated successfully!\")\n"
      ]
    },
    {
      "cell_type": "code",
      "source": [
        "from google.colab import drive\n",
        "drive.mount('/content/drive')\n",
        "!cp /content/tire_management_data.csv /content/drive/MyDrive/\n",
        "from google.colab import files\n",
        "files.download(\"/content/drive/MyDrive/tire_management_data.csv\")\n"
      ],
      "metadata": {
        "colab": {
          "base_uri": "https://localhost:8080/",
          "height": 34
        },
        "id": "JfPM6WV9KXkf",
        "outputId": "514ec409-e454-45b6-895f-64814148e5e0"
      },
      "execution_count": 3,
      "outputs": [
        {
          "output_type": "stream",
          "name": "stdout",
          "text": [
            "Mounted at /content/drive\n"
          ]
        },
        {
          "output_type": "display_data",
          "data": {
            "text/plain": [
              "<IPython.core.display.Javascript object>"
            ],
            "application/javascript": [
              "\n",
              "    async function download(id, filename, size) {\n",
              "      if (!google.colab.kernel.accessAllowed) {\n",
              "        return;\n",
              "      }\n",
              "      const div = document.createElement('div');\n",
              "      const label = document.createElement('label');\n",
              "      label.textContent = `Downloading \"${filename}\": `;\n",
              "      div.appendChild(label);\n",
              "      const progress = document.createElement('progress');\n",
              "      progress.max = size;\n",
              "      div.appendChild(progress);\n",
              "      document.body.appendChild(div);\n",
              "\n",
              "      const buffers = [];\n",
              "      let downloaded = 0;\n",
              "\n",
              "      const channel = await google.colab.kernel.comms.open(id);\n",
              "      // Send a message to notify the kernel that we're ready.\n",
              "      channel.send({})\n",
              "\n",
              "      for await (const message of channel.messages) {\n",
              "        // Send a message to notify the kernel that we're ready.\n",
              "        channel.send({})\n",
              "        if (message.buffers) {\n",
              "          for (const buffer of message.buffers) {\n",
              "            buffers.push(buffer);\n",
              "            downloaded += buffer.byteLength;\n",
              "            progress.value = downloaded;\n",
              "          }\n",
              "        }\n",
              "      }\n",
              "      const blob = new Blob(buffers, {type: 'application/binary'});\n",
              "      const a = document.createElement('a');\n",
              "      a.href = window.URL.createObjectURL(blob);\n",
              "      a.download = filename;\n",
              "      div.appendChild(a);\n",
              "      a.click();\n",
              "      div.remove();\n",
              "    }\n",
              "  "
            ]
          },
          "metadata": {}
        },
        {
          "output_type": "display_data",
          "data": {
            "text/plain": [
              "<IPython.core.display.Javascript object>"
            ],
            "application/javascript": [
              "download(\"download_d07a741c-2d49-482f-a368-83a3a2cebecd\", \"tire_management_data.csv\", 3217)"
            ]
          },
          "metadata": {}
        }
      ]
    },
    {
      "cell_type": "code",
      "source": [
        "import pandas as pd\n",
        "from sklearn.feature_extraction.text import TfidfVectorizer\n",
        "from sklearn.metrics.pairwise import cosine_similarity\n",
        "import numpy as np\n",
        "import matplotlib.pyplot as plt\n",
        "import seaborn as sns\n",
        "import pickle\n",
        "from sklearn.model_selection import train_test_split\n",
        "from sklearn.linear_model import LogisticRegression\n",
        "from sklearn import metrics\n",
        "from sklearn.metrics import confusion_matrix\n",
        "from sklearn.model_selection import cross_val_score\n",
        "from sklearn.ensemble import GradientBoostingRegressor\n",
        "import matplotlib.pyplot as plt\n",
        "from sklearn.model_selection import train_test_split\n",
        "from sklearn.model_selection import KFold\n",
        "\n",
        "# Load the tire data\n",
        "#importing dataset\n",
        "url = 'https://raw.githubusercontent.com/sourajitaghosh/TirePredictionRecommendation/main/tire_management_data.csv?token=GHSAT0AAAAAACNFAWSZV452HN6W3M27IAKGZNNMBOA'\n",
        "data = pd.read_csv(url)\n",
        "# Dataset is now stored in a Pandas Dataframe\n",
        "\n",
        "# Select relevant columns for content-based filtering\n",
        "selected_columns = [\n",
        "    'Name of customer', 'Vehicle', 'Tire brand', 'Weather details',\n",
        "    'Loyalty points', 'Mileage rating', 'Load capacity', 'Speed rating',\n",
        "    'Treadwear warranty', 'Noise level', 'Fuel efficiency',\n",
        "    'Comfort', 'Handling', 'Grip', 'Price'\n",
        "]\n",
        "data = data[selected_columns]\n",
        "\n",
        "# Clean the data (optional)\n",
        "data = data.fillna('')\n",
        "\n",
        "#Content based filtering\n",
        "\n",
        "# Combine selected columns into a single 'description' column\n",
        "data['description'] = data.apply(lambda row: ' '.join(row.values.astype(str)), axis=1)\n",
        "\n",
        "# Create a TF-IDF vectorizer\n",
        "tfidf_vectorizer = TfidfVectorizer(stop_words='english')\n",
        "\n",
        "# Apply TF-IDF vectorization on tire descriptions\n",
        "tfidf_matrix = tfidf_vectorizer.fit_transform(data['description'])\n",
        "\n",
        "# Calculate the cosine similarity matrix\n",
        "cosine_sim = cosine_similarity(tfidf_matrix, tfidf_matrix)\n",
        "\n",
        "# Function to get top N similar tires based on cosine similarity\n",
        "def get_similar_tires(tire_brand, N=5):\n",
        "    # Get the index of the tire brand\n",
        "    indices = pd.Series(data.index, index=data['Tire brand']).drop_duplicates()\n",
        "    idx = indices[tire_brand]\n",
        "\n",
        "    # Calculate the similarity scores for all tires\n",
        "    sim_scores = list(enumerate(cosine_sim[idx]))\n",
        "\n",
        "    # Sort the tires based on similarity scores\n",
        "    sim_scores = sorted(sim_scores, key=lambda x: x[1][0], reverse=True)\n",
        "\n",
        "    # Get the top N similar tires\n",
        "    top_tires_indices = [i[0] for i in sim_scores[1:N+1]]\n",
        "    top_tires = data['Tire brand'].iloc[top_tires_indices]\n",
        "\n",
        "    return top_tires\n",
        "\n",
        "# Example usage: Get top 5 similar tires to a specific brand\n",
        "similar_tires = get_similar_tires(\"Hankook\", N=5)\n",
        "print(similar_tires)\n"
      ],
      "metadata": {
        "colab": {
          "base_uri": "https://localhost:8080/"
        },
        "id": "Vwm7mRY7NVQE",
        "outputId": "f4411ec8-c3c9-4032-ba92-f835599637d6"
      },
      "execution_count": 13,
      "outputs": [
        {
          "output_type": "stream",
          "name": "stdout",
          "text": [
            "0          Dunlop\n",
            "7         Pirelli\n",
            "4        Goodyear\n",
            "11    Bridgestone\n",
            "6        Michelin\n",
            "Name: Tire brand, dtype: object\n"
          ]
        }
      ]
    },
    {
      "cell_type": "code",
      "source": [
        "# Collaborative filtering\n",
        "\n",
        "# Create a user-item matrix\n",
        "user_item_matrix = data.pivot_table(index='Name of customer', columns='Tire brand', values='Comfort')\n",
        "\n",
        "# Calculate the similarity between users using cosine similarity\n",
        "user_similarity = cosine_similarity(user_item_matrix.fillna(0))\n",
        "\n",
        "# Function to generate recommendations for a user based on collaborative filtering\n",
        "def generate_recommendations(user_name, num_recommendations):\n",
        "    # Find the top N similar users to the given user\n",
        "    user_id = user_item_matrix.index.get_loc(user_name)\n",
        "    similar_users = np.argsort(user_similarity[user_id])[::-1][1:num_recommendations+1]\n",
        "\n",
        "    # Get the tires used and rated by the similar users\n",
        "    similar_users_ratings = user_item_matrix.iloc[similar_users].dropna(axis=1, how='all')\n",
        "\n",
        "    # Calculate the average rating of each tire\n",
        "    tire_avg_ratings = similar_users_ratings.mean()\n",
        "\n",
        "    # Filter out the tires already used and rated by the user\n",
        "    used_tires = user_item_matrix.loc[user_name].dropna().index\n",
        "    tire_avg_ratings = tire_avg_ratings[~tire_avg_ratings.index.isin(used_tires)]\n",
        "\n",
        "    # Sort the tires based on average rating in descending order\n",
        "    recommendations = tire_avg_ratings.sort_values(ascending=False)[:num_recommendations]\n",
        "\n",
        "    return recommendationshttps://drive.google.com/drive/search?q=owner%3Ame%20(type%3Aapplication%2Fvnd.google.colaboratory%20%7C%7C%20type%3Aapplication%2Fvnd.google.colab)&authuser=0\n",
        "\n",
        "# Generate recommendations for a specific user\n",
        "user_name = 'Edward Miller'\n",
        "num_recommendations = 5\n",
        "recommendations = generate_recommendations(user_name, num_recommendations)\n",
        "\n",
        "print(f\"Top {num_recommendations} recommendations for User {user_name}:\")\n",
        "print(recommendations)\n"
      ],
      "metadata": {
        "colab": {
          "base_uri": "https://localhost:8080/"
        },
        "id": "5JLfMItrQ4zW",
        "outputId": "be565ca3-a4d9-4d28-aaca-940556552c16"
      },
      "execution_count": 14,
      "outputs": [
        {
          "output_type": "stream",
          "name": "stdout",
          "text": [
            "Top 5 recommendations for User Edward Miller:\n",
            "Tire brand\n",
            "Bridgestone    6.000000\n",
            "Continental    6.000000\n",
            "Pirelli        5.375000\n",
            "Hankook        5.166667\n",
            "Goodyear       3.500000\n",
            "dtype: float64\n"
          ]
        }
      ]
    }
  ]
}